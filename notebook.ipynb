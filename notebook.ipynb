{
 "cells": [
  {
   "cell_type": "code",
   "execution_count": 2,
   "metadata": {},
   "outputs": [
    {
     "name": "stdout",
     "output_type": "stream",
     "text": [
      " Volume in drive C is Windows\n",
      " Volume Serial Number is DAAE-9B9A\n",
      "\n",
      " Directory of c:\\projects\\PedVision\n",
      "\n",
      "16/05/2024  16:13    <DIR>          .\n",
      "30/04/2024  09:35    <DIR>          ..\n",
      "03/05/2024  15:01               164 .gitignore\n",
      "30/04/2024  17:10            25,861 notebook.ipynb\n",
      "30/04/2024  15:10    <DIR>          PedVisionCode\n",
      "30/04/2024  09:36                69 Readme.md\n",
      "30/04/2024  11:31                 4 requirements.txt\n",
      "30/04/2024  10:05    <DIR>          tests\n",
      "16/05/2024  16:13            15,629 Tutorial.docx\n",
      "               5 File(s)         41,727 bytes\n",
      "               4 Dir(s)  364,603,678,720 bytes free\n"
     ]
    }
   ],
   "source": [
    "ls"
   ]
  },
  {
   "cell_type": "code",
   "execution_count": 5,
   "metadata": {},
   "outputs": [],
   "source": [
    "!python PedVisionCode/main.py --foldering y "
   ]
  },
  {
   "cell_type": "code",
   "execution_count": 8,
   "metadata": {},
   "outputs": [],
   "source": [
    "!python PedVisionCode/main.py --images_sampling y --num_samp 2 "
   ]
  },
  {
   "cell_type": "code",
   "execution_count": 12,
   "metadata": {},
   "outputs": [
    {
     "name": "stdout",
     "output_type": "stream",
     "text": [
      "^C\n"
     ]
    }
   ],
   "source": [
    "!python PedVisionCode/main.py --ROI_annotation y "
   ]
  },
  {
   "cell_type": "code",
   "execution_count": null,
   "metadata": {},
   "outputs": [],
   "source": [
    "!python PedVisionCode/main.py --train_roi_model y --round 0"
   ]
  },
  {
   "cell_type": "code",
   "execution_count": null,
   "metadata": {},
   "outputs": [],
   "source": [
    "!python PedVisionCode/main.py --apply_VFM y --round 0"
   ]
  },
  {
   "cell_type": "code",
   "execution_count": null,
   "metadata": {},
   "outputs": [],
   "source": [
    "!python PedVisionCode/main.py --CLS_annotation y"
   ]
  },
  {
   "cell_type": "code",
   "execution_count": 1,
   "metadata": {},
   "outputs": [
    {
     "name": "stdout",
     "output_type": "stream",
     "text": [
      "^C\n"
     ]
    }
   ],
   "source": [
    "!python PedVisionCode\\main.py --HITL y --CLS_model_name MobileNet --HITL_num_samples 3 --round 0 "
   ]
  },
  {
   "cell_type": "code",
   "execution_count": null,
   "metadata": {},
   "outputs": [],
   "source": []
  }
 ],
 "metadata": {
  "kernelspec": {
   "display_name": "SAM_mohofar",
   "language": "python",
   "name": "python3"
  },
  "language_info": {
   "codemirror_mode": {
    "name": "ipython",
    "version": 3
   },
   "file_extension": ".py",
   "mimetype": "text/x-python",
   "name": "python",
   "nbconvert_exporter": "python",
   "pygments_lexer": "ipython3",
   "version": "3.10.12"
  }
 },
 "nbformat": 4,
 "nbformat_minor": 2
}
